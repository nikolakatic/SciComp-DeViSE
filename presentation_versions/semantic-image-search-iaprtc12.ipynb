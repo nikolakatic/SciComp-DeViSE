{
 "cells": [
  {
   "cell_type": "code",
   "execution_count": 2,
   "metadata": {},
   "outputs": [],
   "source": [
    "import os\n",
    "import time\n",
    "import numpy as np"
   ]
  },
  {
   "cell_type": "code",
   "execution_count": 3,
   "metadata": {},
   "outputs": [],
   "source": [
    "def load_embeddings(embeddings_path):\n",
    "    embeddings = {}\n",
    "    with open(embeddings_path, 'r') as file:\n",
    "        for line in file:\n",
    "            splits = line.split()\n",
    "            word = splits[0]\n",
    "            coords = np.asarray(splits[1:], dtype='float32')\n",
    "            embeddings[word] = coords\n",
    "    return embeddings"
   ]
  },
  {
   "cell_type": "code",
   "execution_count": 4,
   "metadata": {},
   "outputs": [],
   "source": [
    "word_embeddings = load_embeddings('./glove.6B.300d.txt')"
   ]
  },
  {
   "cell_type": "code",
   "execution_count": 5,
   "metadata": {},
   "outputs": [],
   "source": [
    "from tensorflow.keras.preprocessing import image\n",
    "from tensorflow.keras.applications.vgg16 import preprocess_input\n",
    "\n",
    "from nltk.corpus import stopwords \n",
    "from nltk.tokenize import word_tokenize"
   ]
  },
  {
   "cell_type": "code",
   "execution_count": 25,
   "metadata": {},
   "outputs": [],
   "source": [
    "def get_word_embedding(category, word_embeddings, wordvec_size=300):\n",
    "    if category in word_embeddings:\n",
    "        return word_embeddings[category]\n",
    "    return np.zeros(shape=wordvec_size)\n",
    "\n",
    "def get_word_embedding_from_description(description, word_embeddings, wordvec_size=300):\n",
    "    stop_words = set(stopwords.words('english'))\n",
    "    stop_words.add(\";\")\n",
    "    words = word_tokenize(description)\n",
    "    wordvecs = []\n",
    "\n",
    "    for word in words:\n",
    "        if word not in stop_words:\n",
    "            word_embedding = get_word_embedding(word, word_embeddings, wordvec_size)\n",
    "            wordvecs.append(word_embedding)\n",
    "\n",
    "    return np.mean(np.array(wordvecs), axis=0)\n",
    "\n",
    "def preprocess_iaprtc12_images(path, word_embeddings, wordvec_size=300):\n",
    "    image_list = []\n",
    "    labels_list = []\n",
    "    paths_list = []\n",
    "    no_desc_images = []\n",
    "    \n",
    "    for dir_path, dir_names, image_names in os.walk(os.path.join(path, \"images\")):\n",
    "        if not image_names: # skip current directory listing\n",
    "            continue\n",
    "\n",
    "        desc_dir_path = dir_path.replace(\"/images/\", \"/annotations_complete_eng/\")\n",
    "        for img_name in image_names:\n",
    "            full_path = os.path.join(dir_path, img_name)\n",
    "            \n",
    "            desc_file = os.path.join(desc_dir_path, img_name).replace(\".jpg\", \".eng\")\n",
    "            if os.path.exists(desc_file):\n",
    "                word_embedding = np.array([])\n",
    "                with open(desc_file, 'r', errors='replace') as desc:\n",
    "                    desc_line = desc.readlines()[3]\n",
    "                    description = desc_line.replace(\"<DESCRIPTION>\", \"\").replace(\"</DESCRIPTION>\", \"\")\n",
    "                    word_embedding = get_word_embedding_from_description(description, word_embeddings)\n",
    "\n",
    "                img_pil = image.load_img(full_path, target_size=(224, 224))\n",
    "                img_raw = image.img_to_array(img_pil)\n",
    "                img = preprocess_input(img_raw) # VGG16 image preprocessing.\n",
    "\n",
    "                image_list.append(img)\n",
    "                labels_list.append(word_embedding)\n",
    "                paths_list.append(full_path)\n",
    "            \n",
    "            else:\n",
    "                no_desc_images.append(full_path)\n",
    "    return np.array(image_list), np.array(labels_list), paths_list, no_desc_images"
   ]
  },
  {
   "cell_type": "code",
   "execution_count": 27,
   "metadata": {},
   "outputs": [],
   "source": [
    "images_vgg16, image_embeddings, image_paths, no_desc_images = preprocess_iaprtc12_images(\"./iaprtc12\", word_embeddings)"
   ]
  },
  {
   "cell_type": "code",
   "execution_count": 8,
   "metadata": {},
   "outputs": [
    {
     "data": {
      "text/plain": [
       "(9832, 224, 224, 3)"
      ]
     },
     "execution_count": 8,
     "metadata": {},
     "output_type": "execute_result"
    }
   ],
   "source": [
    "images_vgg16.shape"
   ]
  },
  {
   "cell_type": "code",
   "execution_count": 29,
   "metadata": {},
   "outputs": [],
   "source": [
    "from tensorflow.keras.applications.vgg16 import VGG16\n",
    "from tensorflow.keras.models import Model\n",
    "from tensorflow.keras import optimizers\n",
    "from tensorflow.keras.layers import Dense, BatchNormalization, Activation, Dropout\n",
    "from tensorflow.keras.losses import cosine_similarity"
   ]
  },
  {
   "cell_type": "code",
   "execution_count": 30,
   "metadata": {},
   "outputs": [],
   "source": [
    "def hybrid_model_backbone(intermediate_dim=2000, word_embedding_dim=300):\n",
    "    vgg16 = VGG16(input_shape=images_vgg16.shape[1:])\n",
    "    x = vgg16.get_layer('fc2').output\n",
    "\n",
    "    for layer in vgg16.layers:\n",
    "        layer.trainable = False\n",
    "\n",
    "    x = Dense(intermediate_dim, name=\"dense1\")(x)\n",
    "    x = BatchNormalization()(x)\n",
    "    x = Activation(\"relu\")(x)\n",
    "    x = Dropout(0.5)(x)\n",
    "\n",
    "    x = Dense(word_embedding_dim, name=\"dense2\")(x)\n",
    "    outputs = BatchNormalization()(x)\n",
    "\n",
    "    model = Model(inputs=[vgg16.input], outputs=outputs)\n",
    "    # https://faroit.com/keras-docs/2.0.8/optimizers/\n",
    "    sgd = optimizers.SGD(decay=1e-6, momentum=0.9, nesterov=True)\n",
    "    model.compile(optimizer=sgd, loss=cosine_similarity)\n",
    "    return model"
   ]
  },
  {
   "cell_type": "code",
   "execution_count": 31,
   "metadata": {},
   "outputs": [],
   "source": [
    "hybrid_model = hybrid_model_backbone()"
   ]
  },
  {
   "cell_type": "code",
   "execution_count": 32,
   "metadata": {},
   "outputs": [],
   "source": [
    "from sklearn.utils import shuffle\n",
    "from sklearn.model_selection import train_test_split\n",
    "from tensorflow.keras.callbacks import ModelCheckpoint\n",
    "from tensorflow.keras.models import load_model"
   ]
  },
  {
   "cell_type": "code",
   "execution_count": 33,
   "metadata": {},
   "outputs": [],
   "source": [
    "def get_model_trained(model, X, y, model_path, train_model=False):\n",
    "    if train_model: \n",
    "        epochs, batch_size = (20, 32)\n",
    "        X, y = shuffle(X, y, random_state=7)\n",
    "        X_train, X_test, y_train, y_test = \\\n",
    "            train_test_split(X, y, test_size=0.3, random_state=7)\n",
    "        checkpointer = ModelCheckpoint(\n",
    "            filepath='best.hdf5', verbose=1, save_best_only=True)\n",
    "        model.fit(X_train, y_train,\n",
    "                  validation_data=(X_test, y_test),\n",
    "                  epochs=epochs,\n",
    "                  batch_size=batch_size,\n",
    "                  callbacks=[checkpointer])\n",
    "        model.save(model_path)\n",
    "        return model\n",
    "    # Assuming that there is a model in a given path.\n",
    "    else:\n",
    "        return load_model(model_path)"
   ]
  },
  {
   "cell_type": "code",
   "execution_count": 34,
   "metadata": {
    "scrolled": true
   },
   "outputs": [],
   "source": [
    "hybrid_model = get_model_trained(hybrid_model, images_vgg16, image_embeddings, \"./model_and_index_iaprtc12/model_new\", train_model=False)"
   ]
  },
  {
   "cell_type": "code",
   "execution_count": 19,
   "metadata": {},
   "outputs": [],
   "source": [
    "from annoy import AnnoyIndex"
   ]
  },
  {
   "cell_type": "code",
   "execution_count": 36,
   "metadata": {},
   "outputs": [],
   "source": [
    "def get_annoy_index(vectors_list, number_of_trees=20, dims=300):\n",
    "    annoy_index = AnnoyIndex(dims, 'angular')\n",
    "    for i, vec in enumerate(vectors_list):\n",
    "        annoy_index.add_item(i, vec)\n",
    "    annoy_index.build(number_of_trees)\n",
    "    return annoy_index\n",
    "\n",
    "def generate_word_annoy_index(word_embeddings):\n",
    "    word_index = dict(enumerate(word_embeddings))\n",
    "    word_embeddings_list = [word_embeddings[word] for word in word_index.values()]\n",
    "    annoy_index = get_annoy_index(word_embeddings_list)\n",
    "    return annoy_index, word_index"
   ]
  },
  {
   "cell_type": "code",
   "execution_count": 37,
   "metadata": {},
   "outputs": [],
   "source": [
    "# This might take minute or two (since it is a 400k corpus of 300d words).\n",
    "word_annoy_index, word_index = generate_word_annoy_index(word_embeddings)"
   ]
  },
  {
   "cell_type": "code",
   "execution_count": null,
   "metadata": {},
   "outputs": [],
   "source": []
  },
  {
   "cell_type": "code",
   "execution_count": 11,
   "metadata": {},
   "outputs": [],
   "source": [
    "import json"
   ]
  },
  {
   "cell_type": "code",
   "execution_count": 15,
   "metadata": {},
   "outputs": [],
   "source": [
    "def generate_image_embeddings(image_paths, model):\n",
    "    images = np.zeros(shape=images_vgg16.shape)\n",
    "    image_path_index = dict(enumerate(image_paths))\n",
    "\n",
    "    for ind, path in image_path_index.items():\n",
    "        img_pil = image.load_img(path, target_size=images_vgg16.shape[1:-1])\n",
    "        img_raw = image.img_to_array(img_pil)\n",
    "        images[ind, :, :, :] = img_raw\n",
    "\n",
    "    image_embeddings_list = model.predict(preprocess_input(images))\n",
    "    return image_embeddings_list, image_path_index\n",
    "\n",
    "def load_image_embeddings(vectors_filename, mapping_filename):\n",
    "    image_embeddings = np.load(\"%s.npy\" % vectors_filename)\n",
    "    with open(\"%s.json\" % mapping_filename) as f:\n",
    "        image_path_index = json.load(f)\n",
    "        return image_embeddings, {int(k): v for k, v in image_path_index.items()}\n",
    "\n",
    "def save_image_embeddings(image_embeddings_filename,\n",
    "                          image_embeddings,\n",
    "                          mapping_filename, \n",
    "                          image_path_index):\n",
    "    np.save(\"%s.npy\" % image_embeddings_filename, image_embeddings)\n",
    "    with open(\"%s.json\" % mapping_filename, 'w') as index_file:\n",
    "        json.dump(image_path_index, index_file)"
   ]
  },
  {
   "cell_type": "code",
   "execution_count": 16,
   "metadata": {},
   "outputs": [],
   "source": [
    "def nearest_neighbors(vector, annoy_index, item_index, k=10):\n",
    "    distances = annoy_index.get_nns_by_vector(vector, k, include_distances=True)\n",
    "    return [[a, item_index[a], distances[1][i]] for i, a in enumerate(distances[0])]"
   ]
  },
  {
   "cell_type": "code",
   "execution_count": null,
   "metadata": {},
   "outputs": [],
   "source": []
  },
  {
   "cell_type": "code",
   "execution_count": 17,
   "metadata": {},
   "outputs": [],
   "source": [
    "def get_hybrid_embeddings(generate_embeddings=False):\n",
    "    image_hybrid_embeddings_filepath = \"./model_and_index_iaprtc12/image_embeddings\"\n",
    "    image_path_indexes_filepath = \"./model_and_index_iaprtc12/image_path_indexes\"\n",
    "    # Generating embedding might take 5-10min.\n",
    "    if generate_embeddings:\n",
    "        image_hybrid_embeddings, image_path_index = \\\n",
    "            generate_image_embeddings(image_paths, hybrid_model)\n",
    "        save_image_embeddings(image_hybrid_embeddings_filepath,\n",
    "                              image_hybrid_embeddings,\n",
    "                              image_path_indexes_filepath,\n",
    "                              image_path_index)\n",
    "        return image_hybrid_embeddings, image_path_index\n",
    "    else:\n",
    "        image_hybrid_embeddings, image_path_index = \\\n",
    "            load_image_embeddings(image_hybrid_embeddings_filepath, \n",
    "                                  image_path_indexes_filepath)\n",
    "    return image_hybrid_embeddings, image_path_index"
   ]
  },
  {
   "cell_type": "code",
   "execution_count": 20,
   "metadata": {},
   "outputs": [],
   "source": [
    "image_hybrid_embeddings, image_path_index = get_hybrid_embeddings(generate_embeddings=False)\n",
    "image_annoy_index = get_annoy_index(image_hybrid_embeddings, number_of_trees=1000)"
   ]
  },
  {
   "cell_type": "markdown",
   "metadata": {},
   "source": [
    "# DEMO"
   ]
  },
  {
   "cell_type": "code",
   "execution_count": 21,
   "metadata": {},
   "outputs": [],
   "source": [
    "from IPython.display import Image\n",
    "from IPython.display import HTML, display\n",
    "import urllib.request"
   ]
  },
  {
   "cell_type": "raw",
   "metadata": {},
   "source": [
    "# Assuming there are global variables (i.e. cells above did run):\n",
    "#   word_embeddings, word_annoy_index, word_index, \n",
    "#   hybrid_model, image_annoy_index, image_path_index "
   ]
  },
  {
   "cell_type": "code",
   "execution_count": 22,
   "metadata": {},
   "outputs": [],
   "source": [
    "def display_similar_images(mean_embedding, image_path=None):\n",
    "    closest_images = nearest_neighbors(mean_embedding, image_annoy_index, image_path_index)\n",
    "\n",
    "    html_str = \"<script>$('div.cell.selected').next().height(100);</script>\\n\"\n",
    "    if image_path is not None:\n",
    "        html_str += \"<h1>Our input image</h1>\"\n",
    "        html_str += \"<img src='%s'>\" % image_path\n",
    "        html_str += \"<h1>Similar images</h1>\"\n",
    "    html_str += \"<table>\"\n",
    "\n",
    "    for i in range(0, 5):\n",
    "        left_cell = closest_images[2*i][1]\n",
    "        html_str += \"<tr><td><img src='%s'></td>\" % left_cell\n",
    "        right_cell = closest_images[2*i+1][1]\n",
    "        html_str += \"<td><img src='%s'></td></tr>\" % right_cell\n",
    "    html_str += \"</table>\\n\"\n",
    "\n",
    "    display(HTML(html_str))\n",
    "\n",
    "def search_by_text(text):\n",
    "    mean_embedding = np.mean([word_embeddings[word] for word in text.split()], axis=0)\n",
    "    display_similar_images(mean_embedding)\n",
    "\n",
    "def get_image_labels(image_path, display_image=False):\n",
    "    if display_image:\n",
    "        display(Image(filename=image_path))\n",
    "    \n",
    "    images = np.zeros(shape=(1,)+images_vgg16.shape[1:])\n",
    "    img = image.load_img(image_path, target_size=images_vgg16.shape[1:-1])\n",
    "    x_raw = image.img_to_array(img)\n",
    "    images[0] = np.expand_dims(x_raw, axis=0)\n",
    "\n",
    "    inputs = preprocess_input(images)\n",
    "\n",
    "    image_features = hybrid_model.predict(inputs)[0]\n",
    "    closest_labels = nearest_neighbors(image_features, word_annoy_index, word_index)\n",
    "    return closest_labels\n",
    "\n",
    "def search_similar_images(image_location, from_url=False):\n",
    "    image_path = image_location\n",
    "    if from_url:\n",
    "        filename = image_location.split(\"/\")[-1]\n",
    "        urllib.request.urlretrieve(image_location, filename)\n",
    "        image_path = filename\n",
    "\n",
    "    closest_labels = [l for _, l, _ in get_image_labels(image_path)]\n",
    "    mean_embedding = np.mean([word_embeddings[label] for label in closest_labels], axis=0)\n",
    "    display_similar_images(mean_embedding, image_path)"
   ]
  },
  {
   "cell_type": "markdown",
   "metadata": {},
   "source": [
    "*Identifying labels on some pictures from the dataset:*"
   ]
  },
  {
   "cell_type": "code",
   "execution_count": 38,
   "metadata": {},
   "outputs": [
    {
     "data": {
      "image/jpeg": "[encoded data removed]",
      "text/plain": [
       "<IPython.core.display.Image object>"
      ]
     },
     "metadata": {},
     "output_type": "display_data"
    },
    {
     "data": {
      "text/plain": [
       "[[385, 'along', 0.8607505559921265],\n",
       " [111, 'where', 0.8746403455734253],\n",
       " [2, '.', 0.8912869691848755],\n",
       " [357, 'small', 0.8942393660545349],\n",
       " [937, 'sea', 0.8960348963737488],\n",
       " [531, 'across', 0.9089937210083008],\n",
       " [541, 'seen', 0.9130023717880249],\n",
       " [430, 'water', 0.9169284701347351],\n",
       " [204, 'around', 0.9178614020347595],\n",
       " [5, 'and', 0.919707715511322]]"
      ]
     },
     "execution_count": 38,
     "metadata": {},
     "output_type": "execute_result"
    }
   ],
   "source": [
    "get_image_labels(image_paths[223], display_image=True)"
   ]
  },
  {
   "cell_type": "markdown",
   "metadata": {},
   "source": [
    "*Searching for specific category/label:*"
   ]
  },
  {
   "cell_type": "code",
   "execution_count": 46,
   "metadata": {},
   "outputs": [
    {
     "data": {
      "text/html": [
       "<script>$('div.cell.selected').next().height(100);</script>\n",
       "<table><tr><td><img src='./iaprtc12/images/07/7255.jpg'></td><td><img src='./iaprtc12/images/10/10904.jpg'></td></tr><tr><td><img src='./iaprtc12/images/27/27582.jpg'></td><td><img src='./iaprtc12/images/11/11477.jpg'></td></tr><tr><td><img src='./iaprtc12/images/10/10136.jpg'></td><td><img src='./iaprtc12/images/10/10328.jpg'></td></tr><tr><td><img src='./iaprtc12/images/11/11662.jpg'></td><td><img src='./iaprtc12/images/17/17912.jpg'></td></tr><tr><td><img src='./iaprtc12/images/07/7274.jpg'></td><td><img src='./iaprtc12/images/17/17529.jpg'></td></tr></table>\n"
      ],
      "text/plain": [
       "<IPython.core.display.HTML object>"
      ]
     },
     "metadata": {},
     "output_type": "display_data"
    }
   ],
   "source": [
    "search_by_text(\"plane\")"
   ]
  },
  {
   "cell_type": "markdown",
   "metadata": {},
   "source": [
    "*Searching for categories that are not in image dataset:*"
   ]
  },
  {
   "cell_type": "code",
   "execution_count": 47,
   "metadata": {
    "scrolled": false
   },
   "outputs": [
    {
     "data": {
      "text/html": [
       "<script>$('div.cell.selected').next().height(100);</script>\n",
       "<table><tr><td><img src='./iaprtc12/images/07/7564.jpg'></td><td><img src='./iaprtc12/images/06/6268.jpg'></td></tr><tr><td><img src='./iaprtc12/images/31/31072.jpg'></td><td><img src='./iaprtc12/images/17/17999.jpg'></td></tr><tr><td><img src='./iaprtc12/images/39/39511.jpg'></td><td><img src='./iaprtc12/images/05/5010.jpg'></td></tr><tr><td><img src='./iaprtc12/images/39/39520.jpg'></td><td><img src='./iaprtc12/images/07/7919.jpg'></td></tr><tr><td><img src='./iaprtc12/images/23/23466.jpg'></td><td><img src='./iaprtc12/images/23/23382.jpg'></td></tr></table>\n"
      ],
      "text/plain": [
       "<IPython.core.display.HTML object>"
      ]
     },
     "metadata": {},
     "output_type": "display_data"
    }
   ],
   "source": [
    "search_by_text(\"birds\")"
   ]
  },
  {
   "cell_type": "code",
   "execution_count": 29,
   "metadata": {
    "scrolled": true
   },
   "outputs": [
    {
     "data": {
      "text/html": [
       "<script>$('div.cell.selected').next().height(100);</script>\n",
       "<table><tr><td><img src='./iaprtc12/images/10/10738.jpg'></td><td><img src='./iaprtc12/images/06/6556.jpg'></td></tr><tr><td><img src='./iaprtc12/images/17/17783.jpg'></td><td><img src='./iaprtc12/images/30/30848.jpg'></td></tr><tr><td><img src='./iaprtc12/images/11/11445.jpg'></td><td><img src='./iaprtc12/images/24/24320.jpg'></td></tr><tr><td><img src='./iaprtc12/images/05/5003.jpg'></td><td><img src='./iaprtc12/images/10/10793.jpg'></td></tr><tr><td><img src='./iaprtc12/images/39/39554.jpg'></td><td><img src='./iaprtc12/images/05/5039.jpg'></td></tr></table>\n"
      ],
      "text/plain": [
       "<IPython.core.display.HTML object>"
      ]
     },
     "metadata": {},
     "output_type": "display_data"
    }
   ],
   "source": [
    "search_by_text(\"ocean\")"
   ]
  },
  {
   "cell_type": "code",
   "execution_count": 30,
   "metadata": {},
   "outputs": [
    {
     "data": {
      "text/html": [
       "<script>$('div.cell.selected').next().height(100);</script>\n",
       "<table><tr><td><img src='./iaprtc12/images/37/37988.jpg'></td><td><img src='./iaprtc12/images/00/60.jpg'></td></tr><tr><td><img src='./iaprtc12/images/37/37983.jpg'></td><td><img src='./iaprtc12/images/37/37987.jpg'></td></tr><tr><td><img src='./iaprtc12/images/35/35649.jpg'></td><td><img src='./iaprtc12/images/37/37981.jpg'></td></tr><tr><td><img src='./iaprtc12/images/32/32843.jpg'></td><td><img src='./iaprtc12/images/37/37142.jpg'></td></tr><tr><td><img src='./iaprtc12/images/37/37985.jpg'></td><td><img src='./iaprtc12/images/17/17654.jpg'></td></tr></table>\n"
      ],
      "text/plain": [
       "<IPython.core.display.HTML object>"
      ]
     },
     "metadata": {},
     "output_type": "display_data"
    }
   ],
   "source": [
    "search_by_text(\"street\")"
   ]
  },
  {
   "cell_type": "markdown",
   "metadata": {},
   "source": [
    "*Achieving more complex queries by combining words:*"
   ]
  },
  {
   "cell_type": "code",
   "execution_count": 32,
   "metadata": {
    "scrolled": true
   },
   "outputs": [
    {
     "data": {
      "text/html": [
       "<script>$('div.cell.selected').next().height(100);</script>\n",
       "<table><tr><td><img src='./iaprtc12/images/30/30848.jpg'></td><td><img src='./iaprtc12/images/17/17975.jpg'></td></tr><tr><td><img src='./iaprtc12/images/06/6297.jpg'></td><td><img src='./iaprtc12/images/31/31072.jpg'></td></tr><tr><td><img src='./iaprtc12/images/21/21121.jpg'></td><td><img src='./iaprtc12/images/07/7351.jpg'></td></tr><tr><td><img src='./iaprtc12/images/30/30820.jpg'></td><td><img src='./iaprtc12/images/06/6535.jpg'></td></tr><tr><td><img src='./iaprtc12/images/21/21071.jpg'></td><td><img src='./iaprtc12/images/32/32812.jpg'></td></tr></table>\n"
      ],
      "text/plain": [
       "<IPython.core.display.HTML object>"
      ]
     },
     "metadata": {},
     "output_type": "display_data"
    }
   ],
   "source": [
    "search_by_text(\"bird near water\")"
   ]
  },
  {
   "cell_type": "markdown",
   "metadata": {},
   "source": [
    "*Since we are able to identify labels on an image, we can perform search by image:*"
   ]
  },
  {
   "cell_type": "code",
   "execution_count": 33,
   "metadata": {
    "scrolled": true
   },
   "outputs": [
    {
     "data": {
      "text/html": [
       "<script>$('div.cell.selected').next().height(100);</script>\n",
       "<h1>Our input image</h1><img src='./iaprtc12/images/30/30045.jpg'><h1>Similar images</h1><table><tr><td><img src='./iaprtc12/images/00/663.jpg'></td><td><img src='./iaprtc12/images/11/11572.jpg'></td></tr><tr><td><img src='./iaprtc12/images/07/7271.jpg'></td><td><img src='./iaprtc12/images/00/715.jpg'></td></tr><tr><td><img src='./iaprtc12/images/11/11251.jpg'></td><td><img src='./iaprtc12/images/27/27654.jpg'></td></tr><tr><td><img src='./iaprtc12/images/23/23367.jpg'></td><td><img src='./iaprtc12/images/23/23498.jpg'></td></tr><tr><td><img src='./iaprtc12/images/07/7675.jpg'></td><td><img src='./iaprtc12/images/10/10864.jpg'></td></tr></table>\n"
      ],
      "text/plain": [
       "<IPython.core.display.HTML object>"
      ]
     },
     "metadata": {},
     "output_type": "display_data"
    }
   ],
   "source": [
    "search_similar_images(image_paths[650])"
   ]
  },
  {
   "cell_type": "code",
   "execution_count": 34,
   "metadata": {
    "scrolled": true
   },
   "outputs": [
    {
     "data": {
      "text/html": [
       "<script>$('div.cell.selected').next().height(100);</script>\n",
       "<h1>Our input image</h1><img src='./iaprtc12/images/30/30218.jpg'><h1>Similar images</h1><table><tr><td><img src='./iaprtc12/images/39/39265.jpg'></td><td><img src='./iaprtc12/images/21/21668.jpg'></td></tr><tr><td><img src='./iaprtc12/images/33/33499.jpg'></td><td><img src='./iaprtc12/images/37/37778.jpg'></td></tr><tr><td><img src='./iaprtc12/images/21/21669.jpg'></td><td><img src='./iaprtc12/images/10/10036.jpg'></td></tr><tr><td><img src='./iaprtc12/images/32/32822.jpg'></td><td><img src='./iaprtc12/images/30/30193.jpg'></td></tr><tr><td><img src='./iaprtc12/images/32/32821.jpg'></td><td><img src='./iaprtc12/images/11/11668.jpg'></td></tr></table>\n"
      ],
      "text/plain": [
       "<IPython.core.display.HTML object>"
      ]
     },
     "metadata": {},
     "output_type": "display_data"
    }
   ],
   "source": [
    "search_similar_images(image_paths[711])"
   ]
  },
  {
   "cell_type": "markdown",
   "metadata": {},
   "source": [
    "*The same goes for images outside of the dataset*"
   ]
  },
  {
   "cell_type": "code",
   "execution_count": 37,
   "metadata": {
    "scrolled": true
   },
   "outputs": [
    {
     "data": {
      "text/html": [
       "<script>$('div.cell.selected').next().height(100);</script>\n",
       "<h1>Our input image</h1><img src='./demo_images/moor-moorland-grasses-wetland-nature-conservation-nature-reserve-nature-landscape-wetlands.jpg'><h1>Similar images</h1><table><tr><td><img src='./iaprtc12/images/07/7290.jpg'></td><td><img src='./iaprtc12/images/30/30687.jpg'></td></tr><tr><td><img src='./iaprtc12/images/17/17086.jpg'></td><td><img src='./iaprtc12/images/17/17676.jpg'></td></tr><tr><td><img src='./iaprtc12/images/30/30982.jpg'></td><td><img src='./iaprtc12/images/30/30794.jpg'></td></tr><tr><td><img src='./iaprtc12/images/30/30892.jpg'></td><td><img src='./iaprtc12/images/30/30374.jpg'></td></tr><tr><td><img src='./iaprtc12/images/30/30678.jpg'></td><td><img src='./iaprtc12/images/17/17795.jpg'></td></tr></table>\n"
      ],
      "text/plain": [
       "<IPython.core.display.HTML object>"
      ]
     },
     "metadata": {},
     "output_type": "display_data"
    }
   ],
   "source": [
    "search_similar_images('./demo_images/moor-moorland-grasses-wetland-nature-conservation-nature-reserve-nature-landscape-wetlands.jpg')"
   ]
  },
  {
   "cell_type": "code",
   "execution_count": null,
   "metadata": {},
   "outputs": [],
   "source": []
  },
  {
   "cell_type": "code",
   "execution_count": 41,
   "metadata": {
    "scrolled": false
   },
   "outputs": [
    {
     "data": {
      "text/html": [
       "<script>$('div.cell.selected').next().height(100);</script>\n",
       "<table><tr><td><img src='./iaprtc12/images/24/24315.jpg'></td><td><img src='./iaprtc12/images/10/10925.jpg'></td></tr><tr><td><img src='./iaprtc12/images/05/5200.jpg'></td><td><img src='./iaprtc12/images/11/11502.jpg'></td></tr><tr><td><img src='./iaprtc12/images/17/17442.jpg'></td><td><img src='./iaprtc12/images/10/10131.jpg'></td></tr><tr><td><img src='./iaprtc12/images/07/7017.jpg'></td><td><img src='./iaprtc12/images/07/7552.jpg'></td></tr><tr><td><img src='./iaprtc12/images/07/7083.jpg'></td><td><img src='./iaprtc12/images/21/21154.jpg'></td></tr></table>\n"
      ],
      "text/plain": [
       "<IPython.core.display.HTML object>"
      ]
     },
     "metadata": {},
     "output_type": "display_data"
    }
   ],
   "source": [
    "search_by_text(\"fence\")"
   ]
  },
  {
   "cell_type": "code",
   "execution_count": 42,
   "metadata": {},
   "outputs": [
    {
     "data": {
      "text/html": [
       "<script>$('div.cell.selected').next().height(100);</script>\n",
       "<table><tr><td><img src='./iaprtc12/images/23/23310.jpg'></td><td><img src='./iaprtc12/images/23/23320.jpg'></td></tr><tr><td><img src='./iaprtc12/images/07/7225.jpg'></td><td><img src='./iaprtc12/images/23/23358.jpg'></td></tr><tr><td><img src='./iaprtc12/images/07/7766.jpg'></td><td><img src='./iaprtc12/images/11/11489.jpg'></td></tr><tr><td><img src='./iaprtc12/images/11/11276.jpg'></td><td><img src='./iaprtc12/images/06/6875.jpg'></td></tr><tr><td><img src='./iaprtc12/images/21/21610.jpg'></td><td><img src='./iaprtc12/images/39/39150.jpg'></td></tr></table>\n"
      ],
      "text/plain": [
       "<IPython.core.display.HTML object>"
      ]
     },
     "metadata": {},
     "output_type": "display_data"
    }
   ],
   "source": [
    "search_by_text(\"sky\")"
   ]
  },
  {
   "cell_type": "code",
   "execution_count": 43,
   "metadata": {
    "scrolled": false
   },
   "outputs": [
    {
     "data": {
      "text/html": [
       "<script>$('div.cell.selected').next().height(100);</script>\n",
       "<table><tr><td><img src='./iaprtc12/images/31/31834.jpg'></td><td><img src='./iaprtc12/images/39/39542.jpg'></td></tr><tr><td><img src='./iaprtc12/images/34/34149.jpg'></td><td><img src='./iaprtc12/images/34/34148.jpg'></td></tr><tr><td><img src='./iaprtc12/images/31/31857.jpg'></td><td><img src='./iaprtc12/images/23/23647.jpg'></td></tr><tr><td><img src='./iaprtc12/images/31/31839.jpg'></td><td><img src='./iaprtc12/images/31/31837.jpg'></td></tr><tr><td><img src='./iaprtc12/images/23/23636.jpg'></td><td><img src='./iaprtc12/images/31/31858.jpg'></td></tr></table>\n"
      ],
      "text/plain": [
       "<IPython.core.display.HTML object>"
      ]
     },
     "metadata": {},
     "output_type": "display_data"
    }
   ],
   "source": [
    "search_by_text(\"snow\")"
   ]
  }
 ],
 "metadata": {
  "kernelspec": {
   "display_name": "Python 3",
   "language": "python",
   "name": "python3"
  },
  "language_info": {
   "codemirror_mode": {
    "name": "ipython",
    "version": 3
   },
   "file_extension": ".py",
   "mimetype": "text/x-python",
   "name": "python",
   "nbconvert_exporter": "python",
   "pygments_lexer": "ipython3",
   "version": "3.8.3"
  },
  "name": "minimalist (baker).ipynb",
  "widgets": {
   "application/vnd.jupyter.widget-state+json": {
    "state": {},
    "version_major": 2,
    "version_minor": 0
   }
  }
 },
 "nbformat": 4,
 "nbformat_minor": 4
}
